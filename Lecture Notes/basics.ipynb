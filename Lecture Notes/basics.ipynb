{
 "cells": [
  {
   "cell_type": "markdown",
   "id": "4847ca18-fe80-4092-b130-8cbfd44dc34d",
   "metadata": {},
   "source": [
    "## Basic Python\n",
    "\n",
    "We'll quickly review some of the basics of Python, as well as some conventions that I use.\n",
    "\n",
    "First let's review a simple style guide:\n",
    "\n",
    "https://docs.python-guide.org/writing/style/\n",
    "\n",
    "Worth reading in full, but to summarize quickly"
   ]
  },
  {
   "cell_type": "code",
   "execution_count": null,
   "id": "004d0dff-d3e0-4935-9d1f-2eb0e673ac3e",
   "metadata": {
    "tags": []
   },
   "outputs": [],
   "source": [
    "import this"
   ]
  },
  {
   "cell_type": "markdown",
   "id": "3daf1f88-6db9-4d9d-8ebb-2acc68afe3d4",
   "metadata": {},
   "source": [
    "# Imports\n",
    "\n",
    "Now our usual imports. You may be aware that convention adds all imports at the top of your code. Imports part way through code are considered bad form, and are likely to give you a headache in notebooks where cells are re-run in different orders.\n",
    "\n",
    "There is one more convention to imports. Standard library packages (os, sys, time, etc.) are imported first, by convention one per line.\n",
    "\n",
    "Community packages are imported next, again by convention one per line. Although if you need two namespaces from a community package, it is generally acceptable to import them together.\n",
    "\n",
    "I'll add some additional packages to my usual imports as examples"
   ]
  },
  {
   "cell_type": "code",
   "execution_count": null,
   "id": "90c93bd3-8f07-4cc8-b094-c1c890bc57d8",
   "metadata": {
    "tags": []
   },
   "outputs": [],
   "source": [
    "import time\n",
    "from time import gmtime, strftime\n",
    "\n",
    "import numpy as np\n",
    "import matplotlib.pyplot as plt\n",
    "import matplotlib"
   ]
  },
  {
   "cell_type": "markdown",
   "id": "54f77205-b857-4cb3-a55c-751559856831",
   "metadata": {},
   "source": [
    "# Namespaces\n",
    "\n",
    "Namespaces have come up twice already, let's clear that up.\n",
    "\n",
    "Just think of namespaces as \"levels\" within a module. I've imported `time` and two functions from time above as an example"
   ]
  },
  {
   "cell_type": "code",
   "execution_count": null,
   "id": "43a62d29-674a-43b8-97af-3ba0a9aa96c9",
   "metadata": {
    "tags": []
   },
   "outputs": [],
   "source": [
    "print(strftime(\"%a, %d %b %Y %H:%M:%S +0000\", gmtime()))\n",
    "print(time.strftime(\"%a, %d %b %Y %H:%M:%S +0000\", time.gmtime()))"
   ]
  },
  {
   "cell_type": "markdown",
   "id": "ddd6b7cb-8193-469f-93cf-067d2933a71a",
   "metadata": {},
   "source": [
    "We can see that whether we import them directly or call the functions through the `time` module, they are equivalent. I've also imported `matplotlib` in multiple ways so we can see this behavior is the same a \"level\" \"down\", or at any \"level\". \n",
    "\n",
    "`matplotlib.pyplot` vs `plt` illustrates the purpose of these imports very well though. Programmers tend to be lazy; the less we have to type, the better."
   ]
  },
  {
   "cell_type": "code",
   "execution_count": null,
   "id": "3abedc19-f229-446f-b0ec-c3f30de4b83a",
   "metadata": {
    "tags": []
   },
   "outputs": [],
   "source": [
    "x = [1,2,3]\n",
    "y = [1,2,3]\n",
    "plt.scatter(x,y)"
   ]
  },
  {
   "cell_type": "code",
   "execution_count": null,
   "id": "42c11c3d-1f47-4908-a13f-131838049a74",
   "metadata": {
    "tags": []
   },
   "outputs": [],
   "source": [
    "matplotlib.pyplot.scatter(x,y)"
   ]
  },
  {
   "cell_type": "markdown",
   "id": "041c38c0-92c1-4fce-9691-0842c66058fc",
   "metadata": {},
   "source": [
    "# Numpy\n",
    "\n",
    "We'll use a lot of numpy so let's review some key points. First arrays vs lists. Lists are built-in to the core python, and have specific \"pythonic\" behavior. But they are not interchangeable with arrays! Lists can be easily converted to arrays, and visa-versa, but you typically need to choose one or the other. Let's see some examples"
   ]
  },
  {
   "cell_type": "code",
   "execution_count": null,
   "id": "e18eb0a2-5e37-48d1-921e-8e5586f19132",
   "metadata": {
    "tags": []
   },
   "outputs": [],
   "source": [
    "print(x + y)\n",
    "print(np.array(x) + np.array(y))\n",
    "\n",
    "print(x * 3)\n",
    "print(np.array(x) * 3)\n",
    "\n",
    "print(x + np.array(x))\n",
    "print(x * np.array(x))"
   ]
  },
  {
   "cell_type": "markdown",
   "id": "bd53075a-fc2e-4cbc-9e8f-9c4bbc26d6bc",
   "metadata": {},
   "source": [
    "# Pause for style!\n",
    "\n",
    "Notice how I added a space around each operator. Notice how much more readable x + y is than x+y. This is part of the pep 8 coding standard, and while I won't grade for it, I will harangue you about it.\n",
    "\n",
    "## Functions\n",
    "\n",
    "It's worth reviewing functions quickly. There's not a lot to review, in fact the style guide goes into more detail than I will, and I highly recommend reading it in full.\n",
    "\n",
    "Functions are infinitely flexible. They take any number of inputs, what we call \"arguments\", and return any number of outputs. There are two types of arugments: arguments (often abbreviated \"args\" in documentation) and keyword arguments (abbreivated \"kwargs\"). Arguments are passed in order and close attention must be paid to ensure you pass args in the order the function expects. Keyword arguments are specified explicitly, and can be passed in any order. There are no strict rules for passing args vs kwargs, but it is more \"pythonic\" to use a minimum number of args and use explicit kwargs for as many arguments as make sense.\n",
    "\n",
    "Another advantage of kwargs is they have a default value. This makes them good for flags, or for arguments that _usually_ one value, but you ocassionally want to change it. kwargs can also be passed in order, after args. But again: explicit is better than implicit. Also for this reason, args must be specified first in the function definition, and the function call.\n",
    "\n",
    "A final style note, a more \"pythonic\" approach to functions is to keep them simple. A function can be as complicated as you like, but it is generally best practice to keep them simple. Functions can call other functions, allowing you to compartmentalize complexity.\n",
    "\n",
    "Some toy examples."
   ]
  },
  {
   "cell_type": "code",
   "execution_count": null,
   "id": "90586337-2096-4dc2-9d33-c343f0dbed18",
   "metadata": {},
   "outputs": [],
   "source": [
    "def line(m, x, b):\n",
    "    return m * x + b\n",
    "\n",
    "x = np.array(x)\n",
    "\n",
    "print(line(5, x, 0))\n",
    "\n",
    "def line2(m, x, b=0):\n",
    "    return m * x + b\n",
    "\n",
    "print(line2(5, x, 0))\n",
    "print(line2(5, x, b=0))\n",
    "print(line2(5, x))\n",
    "print(line2(5, x, 1))\n",
    "print(line2(5, x, b=1))"
   ]
  },
  {
   "cell_type": "markdown",
   "id": "f50394d9-726e-4b8e-bfcb-1a42a3916185",
   "metadata": {},
   "source": [
    "## Loops\n",
    "\n",
    "You'll encounter two types of loops in python, `for` and `while` loops. For loops \"iterate\" over some \"iterable\" (so a list, an array, potentially a \"generator\" like `range`, etc), so they will always execute a certain number of times on a specific set of things. This tends to be what we use most of the time because we tend to want to loop over some input list.\n",
    "\n",
    "`while` loops are critical for tasks where you don't know how many times it needs to execute. For example, we will see in many cases in this course we need to run a process until a certain precision is reached. This can't be done with `for` loops. But `while` loops can also be dangerous! If you don't carefully plan the exit condition, the loop will run infinitely.\n",
    "\n",
    "# List comprehensions\n",
    "\n",
    "Python is a very flexible language. One thing it allows for doing `for` loops in a single line. I do this a lot because I find it elegant. However, it can be confusing, and is probably never *necessary*; in every case I can imagine you can use an actual for loop instead. Nevertheless, I want you to be aware of it, if for no other reason than it might pop up in my code.\n",
    "\n",
    "List comprehesions happen inside square brackets (because they are lists), and can be very simple, or very complex."
   ]
  },
  {
   "cell_type": "code",
   "execution_count": null,
   "id": "7237af28-d634-4517-b0c5-b203d4ed9b14",
   "metadata": {
    "tags": []
   },
   "outputs": [],
   "source": [
    "# list comp\n",
    "x = [i for i in range(10)]\n",
    "y = [0 for i in x]\n",
    "z = [i**2 for i in x if i % 2 == 0]\n",
    "\n",
    "# and lets slip in some string formatting for fun\n",
    "print(f\"{x} \\n{y} \\n{z} \\n\")\n",
    "\n",
    "# probably don't ever do this. But it's possible. Because python!\n",
    "print({str(i): i**3 for i in x})"
   ]
  },
  {
   "cell_type": "code",
   "execution_count": null,
   "id": "b7fed774-de53-439a-9693-2570088454e3",
   "metadata": {},
   "outputs": [],
   "source": [
    "# for i in x now a third time; hideous. x is a bad variable name!!\n",
    "for i in x:\n",
    "    if i % 2 == 0:\n",
    "        # more string formatting!\n",
    "        print(f\"{i**2:04d}, {i**2:4.2f}\")"
   ]
  },
  {
   "cell_type": "code",
   "execution_count": null,
   "id": "e64ae03e-57c0-44a6-a4d6-4606f829f6ce",
   "metadata": {},
   "outputs": [],
   "source": [
    "x = list()\n",
    "while len(x) < 10:\n",
    "    x.append(len(x))\n",
    "\n",
    "print(x)"
   ]
  },
  {
   "cell_type": "markdown",
   "id": "ea93cdcb-7713-409b-a24f-eaf02cdce6fc",
   "metadata": {},
   "source": [
    "## Plotting\n",
    "\n",
    "Plotting will of course be fairly important in this course. Nearly every exercise will require some plot to visualize or validate your code. I am quite comfortable with `matplotlib` and generally recommend it to you. But other libraries, such as seaborn, exist and you are welcome to use them. I may be less helpful debugging that code however.\n",
    "\n",
    "You may be used to using `plt` by itself, as I did above. This is perfectly fine, but it misses an important subtlety I want to point out. Anytime you call `plt`, an \"axis\" object is created, and that object is modified by further `plt` commands until you start a new cell, or create a new figure explicitly. Generally, while working in notebooks, this behavior is fine, and completely under-the-hood. Although you will occasionally notice when you're doing something more complex, you have to call `plt.gca()` (\"get current axis\"), which allows you to directly access the implicit axis object.\n",
    "\n",
    "You can also work with axes objectes directly, and in fact if you ever make multi-panel plots, you will **have to** do so. For most, perhaps all, of this course, you can probably use either method. Let's show that they are interchangeable"
   ]
  },
  {
   "cell_type": "code",
   "execution_count": null,
   "id": "ae4d8b67-a167-43d4-9a96-ec2854dfda6b",
   "metadata": {
    "tags": []
   },
   "outputs": [],
   "source": [
    "x = np.arange(0, 10, 1)\n",
    "y = x**2\n",
    "\n",
    "plt.scatter(x, y)\n",
    "\n",
    "fig = plt.figure()\n",
    "ax = fig.add_subplot(111) # 111 means 1 row, 1 column, first subplot. google to learn more about subplots\n",
    "ax.scatter(x, y)"
   ]
  },
  {
   "cell_type": "code",
   "execution_count": null,
   "id": "8019aca0-d4f1-4dc0-9c0f-94a300fc6ac0",
   "metadata": {
    "tags": []
   },
   "outputs": [],
   "source": [
    "plt.scatter(x, x**2, label=\"square\")\n",
    "plt.scatter(x, x**3, label=\"cube\")\n",
    "plt.legend(loc=\"best\")"
   ]
  },
  {
   "cell_type": "code",
   "execution_count": null,
   "id": "447a7661-d8ac-4f18-aee2-2e6d9c216171",
   "metadata": {
    "tags": []
   },
   "outputs": [],
   "source": [
    "plt.scatter(x, x**2, label=\"square\", c=x**3, marker=\"^\", vmax=300)\n",
    "plt.legend(loc=\"best\")\n",
    "plt.colorbar(label=r\"x${^3}$\") # tex!\n",
    "plt.xlabel(\"x\")\n",
    "plt.ylabel(r\"x${^2}$\") # tex!\n",
    "plt.title(\"Math on x\")"
   ]
  },
  {
   "cell_type": "markdown",
   "id": "5007db37-ecba-434b-8e79-7598770dbbf7",
   "metadata": {},
   "source": [
    "## Reading data from a file\n",
    "\n",
    "Data analysis tends to require reading in data. There a number of common file formats nowadays, hdf5, parquet, fits for us astronomers, etc. We can ignore those. Let's stick to plain text files to keep our lives simple. We can use numpy to read structured files (e.g. csv) directly to a numpy array."
   ]
  },
  {
   "cell_type": "code",
   "execution_count": null,
   "id": "6d8bd137-ebb7-4d4c-a5c1-baac7b487217",
   "metadata": {
    "tags": []
   },
   "outputs": [],
   "source": [
    "dat = np.genfromtxt(\"TexasCounties.dat\", dtype=None, encoding=\"UTF-8\", names=True)\n",
    "dat.dtype"
   ]
  },
  {
   "cell_type": "code",
   "execution_count": null,
   "id": "50cd6793-3061-4e31-806b-e8c7c4fbd578",
   "metadata": {
    "tags": []
   },
   "outputs": [],
   "source": [
    "def lean(N_r, N_d):\n",
    "    return (N_r - N_d) / (N_r + N_d)\n",
    "\n",
    "plt.scatter(dat[\"pop\"], lean(dat[\"Senate_R\"], dat[\"Senate_D\"]))\n",
    "plt.gca().set_xscale(\"log\")"
   ]
  },
  {
   "cell_type": "markdown",
   "id": "bd392076-692e-47a2-a82c-ab5f6d38d1d0",
   "metadata": {},
   "source": [
    "## Masking and subsetting data\n",
    "\n",
    "In intro to programming, you encountered a lot of data that needed to be cleaned up, or perhpas you only wanted to analyze a subset of the data. Let's review some of those techniques.\n",
    "\n",
    "In most cases, you evaluate some conditional statement with the data. For example some public data is released with very large negative numbers indicating bad values, so you might check where a data column is positive, `data[\"column\"] > 0`. There is an assumption here that `data[\"column\"]` is an array; if it was not this operation would probably throw an error. This results in another array the same length as `data[\"column\"]` now consisting of boolean values, either `True` where the condition is satisfied, or `False` otherwise.\n",
    "\n",
    "A subset of a `numpy` array can be selected directly with that boolean array. It is also common to use the `np.where` method to select the indices where an array is `True`. This is effectively equivalent if you are only subsetting one array, but in cases where you need to know which indices satisfy your condition. For applications with large arrays (> 10000 elements), you can speed up the code dramatically if you figure out indices once and specificy indices in your loops, as compared to dictionaries or doing some kind of \"subsetting\" repeatedly."
   ]
  },
  {
   "cell_type": "code",
   "execution_count": null,
   "id": "35260d82-b3e1-4c7b-98fa-dd8a32dcb98f",
   "metadata": {},
   "outputs": [],
   "source": [
    "data = [i for i in range(10)]\n",
    "data > 5"
   ]
  },
  {
   "cell_type": "code",
   "execution_count": null,
   "id": "c4cbcd24-4880-4f69-922c-d3fcbb26ead6",
   "metadata": {},
   "outputs": [],
   "source": [
    "print([i > 5 for i in data])  # note this is a list\n",
    "print(np.array(data) > 5)  # and this is an array"
   ]
  },
  {
   "cell_type": "code",
   "execution_count": null,
   "id": "170e1baf-3fea-4710-a3fd-a97a1fa6ef5a",
   "metadata": {},
   "outputs": [],
   "source": [
    "data = np.array(data)\n",
    "\n",
    "print(data[data > 5])\n",
    "print(data[np.where(data > 5)])\n",
    "\n",
    "print(data[data % 2 == 0])"
   ]
  },
  {
   "cell_type": "code",
   "execution_count": null,
   "id": "52b72bac-7c95-42d5-b3e9-3ec22a54c6ae",
   "metadata": {},
   "outputs": [],
   "source": [
    "print(data > 5)\n",
    "print(np.where(data > 5))\n",
    "\n",
    "print(data % 2 == 0)"
   ]
  },
  {
   "cell_type": "code",
   "execution_count": null,
   "id": "69288ce9-7da4-4404-8455-33f3eb70a0d8",
   "metadata": {},
   "outputs": [],
   "source": []
  }
 ],
 "metadata": {
  "kernelspec": {
   "display_name": "Python 3 (ipykernel)",
   "language": "python",
   "name": "python3"
  },
  "language_info": {
   "codemirror_mode": {
    "name": "ipython",
    "version": 3
   },
   "file_extension": ".py",
   "mimetype": "text/x-python",
   "name": "python",
   "nbconvert_exporter": "python",
   "pygments_lexer": "ipython3",
   "version": "3.12.6"
  }
 },
 "nbformat": 4,
 "nbformat_minor": 5
}
