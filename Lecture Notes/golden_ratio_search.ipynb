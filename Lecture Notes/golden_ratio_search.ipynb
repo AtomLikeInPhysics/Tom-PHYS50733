{
 "cells": [
  {
   "cell_type": "markdown",
   "metadata": {},
   "source": [
    "## Example 6.5"
   ]
  },
  {
   "cell_type": "code",
   "execution_count": 1,
   "metadata": {},
   "outputs": [
    {
     "name": "stdout",
     "output_type": "stream",
     "text": [
      "1.5015524571229388\n"
     ]
    }
   ],
   "source": [
    "import numpy as np\n",
    "\n",
    "def V(x,sigma=1,V0=1):\n",
    "    return(V0*((sigma/x)**6 - np.exp(-x/sigma)))\n",
    "\n",
    "z = (1 + np.sqrt(5))/2\n",
    "\n",
    "x1 = 1\n",
    "x4 = 10\n",
    "x3 = (x4-x1)/z + x1\n",
    "x2 = (x3-x1)/z + x1\n",
    "\n",
    "v1 = V(x1)\n",
    "v2 = V(x2)\n",
    "v3 = V(x3)\n",
    "v4 = V(x4)\n",
    "\n",
    "acc = 1e-6\n",
    "while (x4-x1) > acc:\n",
    "    if v2 < v3:\n",
    "        x4 = x3\n",
    "        x3 = x2\n",
    "        x2 = (x3-x1)/z + x1\n",
    "        v2 = V(x2)\n",
    "    else:\n",
    "        x1 = x2\n",
    "        x2 = x3\n",
    "        x3 = (x4-x1)/z + x1\n",
    "        v3 = V(x3)\n",
    "    # print(0.5*(x2+x3))\n",
    "print(0.5*(x2+x3))"
   ]
  },
  {
   "cell_type": "markdown",
   "metadata": {},
   "source": [
    "## Gradient Descent"
   ]
  },
  {
   "cell_type": "code",
   "execution_count": 14,
   "metadata": {},
   "outputs": [
    {
     "name": "stdout",
     "output_type": "stream",
     "text": [
      "[np.float64(1.688819169606636)]\n"
     ]
    }
   ],
   "source": [
    "\n",
    "def centDiff(x,h = 10**-8):\n",
    "    return((V(x + h/2) - V(x - h/2)) / h)\n",
    "\n",
    "def V(x,sigma=1,V0=1):\n",
    "    return(V0*((sigma/x)**6 - np.exp(-x/sigma)))\n",
    "\n",
    "gradient = [1]\n",
    "gamma = 0.001\n",
    "x2 = 3\n",
    "prev = 1000\n",
    "Vi = V(x2)\n",
    "\n",
    "while np.abs(prev-Vi) > 1e-6:\n",
    "    Vi = V(x2)\n",
    "    x2 = x2 - gamma*centDiff(x2)\n",
    "    prev = V(x2)\n",
    "    gradient[0] = x2\n",
    "\n",
    "print(gradient)\n",
    "    "
   ]
  },
  {
   "cell_type": "code",
   "execution_count": null,
   "metadata": {},
   "outputs": [],
   "source": []
  }
 ],
 "metadata": {
  "kernelspec": {
   "display_name": "base",
   "language": "python",
   "name": "python3"
  },
  "language_info": {
   "codemirror_mode": {
    "name": "ipython",
    "version": 3
   },
   "file_extension": ".py",
   "mimetype": "text/x-python",
   "name": "python",
   "nbconvert_exporter": "python",
   "pygments_lexer": "ipython3",
   "version": "3.12.2"
  }
 },
 "nbformat": 4,
 "nbformat_minor": 2
}
