{
 "cells": [
  {
   "cell_type": "markdown",
   "id": "c437a703-4372-454a-9681-015e61918db8",
   "metadata": {},
   "source": [
    "### Program speed\n",
    "\n",
    "Modern computers are very fast; most of the time tasks run so quickly we don't notice whether they run in microseconds or milliseconds. But you have likely encountered programs that do take some time, and if you do enough computational physics you will surely encounter more. It is worth considering some factors affecting the speed of our programs.\n",
    "\n",
    "Even inefficient code still runs fairly quickly. Often brute force mathematics is the simple computational solution. But one of the themes in this course is brute force solutions typically run up against practical limits fairly quickly."
   ]
  },
  {
   "cell_type": "code",
   "execution_count": 1,
   "id": "f709fc7d-7fc8-42e3-b110-aff9c35cdf83",
   "metadata": {},
   "outputs": [],
   "source": [
    "import time\n",
    "import numpy as np"
   ]
  },
  {
   "cell_type": "code",
   "execution_count": 2,
   "id": "c31404d0-4187-4efe-ab3b-fe9f8a0e99eb",
   "metadata": {},
   "outputs": [
    {
     "name": "stdout",
     "output_type": "stream",
     "text": [
      "0.1295638084411621\n",
      "0.3361027240753174\n"
     ]
    }
   ],
   "source": [
    "start = time.time()\n",
    "\n",
    "slow = {i: i for i in range(int(5e6))}\n",
    "print(time.time() - start)\n",
    "\n",
    "for k in slow.keys():\n",
    "    slow[k] += 1\n",
    "\n",
    "print(time.time() - start)"
   ]
  },
  {
   "cell_type": "code",
   "execution_count": 3,
   "id": "1387b6ed-6b2c-47da-8bc6-65cd3096f601",
   "metadata": {},
   "outputs": [
    {
     "name": "stdout",
     "output_type": "stream",
     "text": [
      "0.10616493225097656\n",
      "0.3029930591583252\n"
     ]
    }
   ],
   "source": [
    "start = time.time()\n",
    "\n",
    "slow = [i for i in range(int(5e6))]\n",
    "print(time.time() - start)\n",
    "\n",
    "for i in range(int(5e6)):\n",
    "    slow[i] += 1\n",
    "\n",
    "print(time.time() - start)"
   ]
  },
  {
   "cell_type": "code",
   "execution_count": 5,
   "id": "059d11f8-cc14-47eb-8bde-6d161c4b4b1e",
   "metadata": {},
   "outputs": [
    {
     "name": "stdout",
     "output_type": "stream",
     "text": [
      "0.0015058517456054688\n",
      "0.0017619132995605469\n"
     ]
    }
   ],
   "source": [
    "start = time.time()\n",
    "\n",
    "slow = np.array(5e6)\n",
    "print(time.time() - start)\n",
    "\n",
    "slow += 1\n",
    "\n",
    "print(time.time() - start)"
   ]
  },
  {
   "cell_type": "markdown",
   "id": "086dcd19-8a68-43e2-b03a-231912310cdd",
   "metadata": {},
   "source": [
    "### Example 4.2\n",
    "\n",
    "The book provides an example illustrating some good practices for efficient programming, how quickly a \"good\" solution can be arrived at computationally, and some limits of running **many** calculations."
   ]
  },
  {
   "cell_type": "code",
   "execution_count": 6,
   "id": "28b1c634-e2c8-4953-b6c0-33bdc18762b0",
   "metadata": {},
   "outputs": [
    {
     "name": "stdout",
     "output_type": "stream",
     "text": [
      "99.95543134093475\n"
     ]
    }
   ],
   "source": [
    "terms = 1000\n",
    "beta = 1 / 100\n",
    "s = 0.0\n",
    "z = 0.0\n",
    "\n",
    "for n in range(terms):\n",
    "    E = n + 0.5\n",
    "    # I've added a float cast here because numpy always returns a numpy object never a float/int\n",
    "    weight = float(np.exp(-beta*E))\n",
    "    s += weight * E\n",
    "    z += weight\n",
    "\n",
    "print(s/z)"
   ]
  },
  {
   "cell_type": "markdown",
   "id": "e9cba9fe-8572-44bd-92bc-556525d6c3a8",
   "metadata": {},
   "source": [
    "I'm going to rearrange the code in the book to make changing the number of terms easier, then we'll try different numbers of terms."
   ]
  },
  {
   "cell_type": "code",
   "execution_count": 7,
   "id": "670c97ad-dae1-4e63-a116-76c55e15c76f",
   "metadata": {},
   "outputs": [
    {
     "name": "stdout",
     "output_type": "stream",
     "text": [
      "1000 99.95543134093475\n",
      "0.0008249282836914062\n",
      "1000000 100.00083333194436\n",
      "0.33200597763061523\n",
      "10000000 100.00083333194436\n",
      "3.5229780673980713\n",
      "100000000 100.00083333194436\n",
      "35.77028679847717\n"
     ]
    }
   ],
   "source": [
    "# constant, it's ok to define these here\n",
    "beta = 1 / 100\n",
    "\n",
    "def oscillator(terms):\n",
    "    s = 0.0\n",
    "    z = 0.0\n",
    "    for n in range(terms):\n",
    "        E = n + 0.5\n",
    "        # I've added a float cast here because numpy always returns a numpy object never a float/int\n",
    "        weight = float(np.exp(-beta*E))\n",
    "        s += weight * E\n",
    "        z += weight\n",
    "\n",
    "    print(terms, s/z)\n",
    "\n",
    "begin = time.time()\n",
    "oscillator(1000)\n",
    "print(time.time() - begin)\n",
    "oscillator(int(1e6))\n",
    "print(time.time() - begin)\n",
    "oscillator(int(1e7))\n",
    "print(time.time() - begin)\n",
    "oscillator(int(1e8))\n",
    "print(time.time() - begin)"
   ]
  },
  {
   "cell_type": "code",
   "execution_count": 8,
   "id": "fab6b7eb-4029-42f7-a76c-9f7b87dc4a92",
   "metadata": {},
   "outputs": [
    {
     "name": "stdout",
     "output_type": "stream",
     "text": [
      "(100, 100) (100, 100)\n"
     ]
    }
   ],
   "source": [
    "a = np.arange(0, 10000, 1).reshape((100,100))\n",
    "b = np.arange(2, 10002, 1).reshape((100,100))\n",
    "print(a.shape, b.shape)"
   ]
  },
  {
   "cell_type": "code",
   "execution_count": 9,
   "id": "8c951b85-6298-470c-a9ea-db67c9ab4498",
   "metadata": {},
   "outputs": [
    {
     "name": "stdout",
     "output_type": "stream",
     "text": [
      "0.2731339931488037\n",
      "[[0. 0. 0. ... 0. 0. 0.]\n",
      " [0. 0. 0. ... 0. 0. 0.]\n",
      " [0. 0. 0. ... 0. 0. 0.]\n",
      " ...\n",
      " [0. 0. 0. ... 0. 0. 0.]\n",
      " [0. 0. 0. ... 0. 0. 0.]\n",
      " [0. 0. 0. ... 0. 0. 0.]]\n",
      "0.0014619827270507812\n"
     ]
    }
   ],
   "source": [
    "N = 100\n",
    "C = np.zeros([N, N])\n",
    "\n",
    "begin = time.time()\n",
    "for i in range(N):\n",
    "    for j in range(N):\n",
    "        for k in range(N):\n",
    "            C[i,j] += a[i,k] * b[k,j]\n",
    "\n",
    "print(time.time() - begin)\n",
    "\n",
    "begin = time.time()\n",
    "\n",
    "print(np.matmul(a,b) - C)\n",
    "print(time.time() - begin)"
   ]
  },
  {
   "cell_type": "code",
   "execution_count": null,
   "id": "1b10f65d-0e04-4ae2-8b7b-29ecbe3bf716",
   "metadata": {},
   "outputs": [],
   "source": []
  }
 ],
 "metadata": {
  "kernelspec": {
   "display_name": "base",
   "language": "python",
   "name": "python3"
  },
  "language_info": {
   "codemirror_mode": {
    "name": "ipython",
    "version": 3
   },
   "file_extension": ".py",
   "mimetype": "text/x-python",
   "name": "python",
   "nbconvert_exporter": "python",
   "pygments_lexer": "ipython3",
   "version": "3.12.2"
  }
 },
 "nbformat": 4,
 "nbformat_minor": 5
}
