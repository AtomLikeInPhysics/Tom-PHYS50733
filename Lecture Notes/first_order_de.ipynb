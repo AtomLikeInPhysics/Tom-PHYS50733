{
 "cells": [
  {
   "cell_type": "markdown",
   "id": "3e58e155-c4df-4330-8ec9-ed5706c86e42",
   "metadata": {},
   "source": [
    "# First Order Differential Equations with One Variable\n",
    "\n",
    "## Eulers Method\n",
    "\n",
    "Euler's method is a very simple algorithm. Supposing we know some initial conditions and have description for how a variable changes over time (i.e. a first order differential equation), it is entirely reasonable to approximate the \"next step\" in a series of changes to that variable as the current value plus the amount we expect it to change by in some step size times the step size.\n",
    "\n",
    "The time case is perhaps simplest. If I know $\\Delta x / \\Delta t$, then multiplying by the known $Delta t$ simply leaves $\\Delta x$. This is a simplistic explanation, and you may find the Taylor Series explanation more rigorous. But I find intuitive explanations helpful.\n",
    "\n",
    "The nomenclature in your textbook is to define *f(x, t)* to be a function that computes the derivative at the point $(x, t)$. It can be confusing to think of the *f(x)* as a derivative, without a prime, but programatically this makes perfect sense. After all we only know the expression for the derivative; if we knew the original function we wouldn't be in this mess!\n",
    "\n",
    "Given the expression ${dx \\over dt} = -x^3 + \\sin{t}$, or equivalently `f(x,t) = -x**3 + sin(t)`, write a program using Eulers method to solve the differential equation. Use initial conditions $x=0$ at $t=0$, for $t=0$ to $t=10$ and 1000 steps. Plot the result.\n",
    "\n",
    "As usual there is an answer in your book, but it is more instructive to attempt to code on your own first."
   ]
  },
  {
   "cell_type": "code",
   "execution_count": null,
   "id": "d95ec0fc-e986-4f37-8db9-f72fd7795fa2",
   "metadata": {},
   "outputs": [],
   "source": [
    "# code"
   ]
  },
  {
   "cell_type": "markdown",
   "id": "75a240b6-0908-42ce-8b60-34ae9c876d09",
   "metadata": {},
   "source": [
    "## Runge-Kutta\n",
    "\n",
    "You should have read a detailed explanation of Runge-Kutta already. You read that Euler's method is effectively a first-order Runge-Kutta method. I find the simplest way of conceptualizing the traditional \"second order\" Runge-Kutta is to think of it as a \"mid point\" rule; Figure 8.2 is quite instructive. Recall that when computing derivatives, we found evaluating the derivative at a \"mid point\" was far more accurate.\n",
    "\n",
    "Equation 8.13 in your book gives the procedure for calculating second-order Runge-Kutta. The first step is basically Euler's method, but instead we use 1/2 of the resulting change in $x$ and a similar 1/2 our time step, $t$, to calculate the $\\Delta x / \\Delta t$ at a point between the current point and next point, and multiply this more accurate $\\Delta x / \\Delta t$ by our step size to find the next point.\n",
    "\n",
    "Beginning with a copy of your Euler's Method code, update the code to use second-order Runge-Kutta. Again, the code is provided in your book, but given 8.13 you should be able to write your own code. "
   ]
  },
  {
   "cell_type": "code",
   "execution_count": null,
   "id": "9e0acb86-6c92-4a02-b526-514c93170102",
   "metadata": {},
   "outputs": [],
   "source": [
    "# code"
   ]
  },
  {
   "cell_type": "markdown",
   "id": "40ad2e4c-1aa9-403b-a357-c25c6b742556",
   "metadata": {},
   "source": [
    "## Fourth-Order Runge-Kutta\n",
    "\n",
    "Equation 8.17 gives the procedure for calculating a fourth-order Runge-Kutta. Instead of one midpoint, now we use 3. You should see why these three methods are generally grouped together.\n",
    "\n",
    "Beginning with a copy of your second-order Runge-Kutta code, update it to use fourth-order Runge-Kutta. Once your code is working, further modify your code to use different numbers of steps (or equivalently different step sizes). Create plots of the solution for $x$ with 10, 100, and 1000 step sizes. Feel free to try 10,000 or more steps, but do you see any further improvement?"
   ]
  },
  {
   "cell_type": "code",
   "execution_count": null,
   "id": "00f43a58-44c0-4b14-8be1-aa357facd727",
   "metadata": {},
   "outputs": [],
   "source": [
    "# code"
   ]
  }
 ],
 "metadata": {
  "kernelspec": {
   "display_name": "Python 3 (ipykernel)",
   "language": "python",
   "name": "python3"
  },
  "language_info": {
   "codemirror_mode": {
    "name": "ipython",
    "version": 3
   },
   "file_extension": ".py",
   "mimetype": "text/x-python",
   "name": "python",
   "nbconvert_exporter": "python",
   "pygments_lexer": "ipython3",
   "version": "3.12.7"
  }
 },
 "nbformat": 4,
 "nbformat_minor": 5
}
