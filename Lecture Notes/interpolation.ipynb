{
 "cells": [
  {
   "cell_type": "markdown",
   "id": "07e98cf7-657f-4d71-8581-864040d9e2dd",
   "metadata": {},
   "source": [
    "# Interpolation\n",
    "\n",
    "Occasionally we need to know the value of a function between data points.\n",
    "\n",
    "Let's create a mildly complicated function. We'll then sample it poorly, then explore ways to interpolate between those points."
   ]
  },
  {
   "cell_type": "code",
   "execution_count": 1,
   "id": "8cf52c87-704b-438d-91ab-7b7af40be2ce",
   "metadata": {},
   "outputs": [
    {
     "data": {
      "text/plain": [
       "<matplotlib.collections.PathCollection at 0x113c3ff80>"
      ]
     },
     "execution_count": 1,
     "metadata": {},
     "output_type": "execute_result"
    },
    {
     "data": {
      "image/png": "[encoded data removed]",
      "text/plain": [
       "<Figure size 640x480 with 1 Axes>"
      ]
     },
     "metadata": {},
     "output_type": "display_data"
    }
   ],
   "source": [
    "import numpy as np\n",
    "import matplotlib.pyplot as plt\n",
    "\n",
    "def exFunc(x):\n",
    "    return x**2 + 5*np.sin(x)\n",
    "\n",
    "x_dense = np.arange(0, 7, 0.1)\n",
    "y_dense = exFunc(x_dense)\n",
    "\n",
    "x_sparse = np.arange(0, 7, 2)\n",
    "y_sparse = exFunc(x_sparse)\n",
    "\n",
    "plt.plot(x_dense, y_dense)\n",
    "plt.scatter(x_sparse, y_sparse)"
   ]
  },
  {
   "cell_type": "markdown",
   "id": "e596b5b6-4242-47cc-9507-52b5f7bd8e54",
   "metadata": {},
   "source": [
    "The simplest way to interpolate between points is to assume a straight line. As discussed in the textbook, if we only have two points, this is our only option.\n",
    "\n",
    "Write a function that accepts two (x, y) points and uses linear interpolation to return any value between them. \n",
    "\n",
    "## Diversion!!\n",
    "\n",
    "This is a great place to plunge head first down a rabbit hole. We have so far avoided discussing Python objects because we haven't needed them. But Python is a self-consciously very object-oriented language and it would be a disservice to you to pretend otherwise.\n",
    "\n",
    "Below we'll define an object called FitFunction (object definitions are often CamelCase by convention), and we'll define a special property of the object `__call__`. This allows the object to be called like a function; such objects are often referred to as \"functals\"."
   ]
  },
  {
   "cell_type": "code",
   "execution_count": 2,
   "id": "43aeb11e-f354-400b-8dba-12eae2ef0af8",
   "metadata": {},
   "outputs": [
    {
     "name": "stdout",
     "output_type": "stream",
     "text": [
      "10\n"
     ]
    },
    {
     "ename": "AssertionError",
     "evalue": "must pass slope (m) to instantiate object",
     "output_type": "error",
     "traceback": [
      "\u001b[0;31m---------------------------------------------------------------------------\u001b[0m",
      "\u001b[0;31mAssertionError\u001b[0m                            Traceback (most recent call last)",
      "Cell \u001b[0;32mIn[2], line 13\u001b[0m\n\u001b[1;32m     11\u001b[0m example_line \u001b[38;5;241m=\u001b[39m FitFunction(m\u001b[38;5;241m=\u001b[39m\u001b[38;5;241m2\u001b[39m, b\u001b[38;5;241m=\u001b[39m\u001b[38;5;241m0\u001b[39m)\n\u001b[1;32m     12\u001b[0m \u001b[38;5;28mprint\u001b[39m(example_line(\u001b[38;5;241m5\u001b[39m))\n\u001b[0;32m---> 13\u001b[0m example_line2 \u001b[38;5;241m=\u001b[39m \u001b[43mFitFunction\u001b[49m\u001b[43m(\u001b[49m\u001b[43m)\u001b[49m\n\u001b[1;32m     14\u001b[0m \u001b[38;5;28mprint\u001b[39m(example_line2(\u001b[38;5;241m5\u001b[39m))\n",
      "Cell \u001b[0;32mIn[2], line 5\u001b[0m, in \u001b[0;36mFitFunction.__init__\u001b[0;34m(self, m, b)\u001b[0m\n\u001b[1;32m      3\u001b[0m \u001b[38;5;28mself\u001b[39m\u001b[38;5;241m.\u001b[39mm \u001b[38;5;241m=\u001b[39m m\n\u001b[1;32m      4\u001b[0m \u001b[38;5;28mself\u001b[39m\u001b[38;5;241m.\u001b[39mb \u001b[38;5;241m=\u001b[39m b\n\u001b[0;32m----> 5\u001b[0m \u001b[38;5;28;01massert\u001b[39;00m m \u001b[38;5;129;01mis\u001b[39;00m \u001b[38;5;129;01mnot\u001b[39;00m \u001b[38;5;28;01mNone\u001b[39;00m, \u001b[38;5;124m\"\u001b[39m\u001b[38;5;124mmust pass slope (m) to instantiate object\u001b[39m\u001b[38;5;124m\"\u001b[39m\n\u001b[1;32m      6\u001b[0m \u001b[38;5;28;01massert\u001b[39;00m b \u001b[38;5;129;01mis\u001b[39;00m \u001b[38;5;129;01mnot\u001b[39;00m \u001b[38;5;28;01mNone\u001b[39;00m, \u001b[38;5;124m\"\u001b[39m\u001b[38;5;124mmust pass intercept (b) to instantiate object\u001b[39m\u001b[38;5;124m\"\u001b[39m\n",
      "\u001b[0;31mAssertionError\u001b[0m: must pass slope (m) to instantiate object"
     ]
    }
   ],
   "source": [
    "class FitFunction(object):\n",
    "    def __init__(self, m=None, b=None):\n",
    "        self.m = m\n",
    "        self.b = b\n",
    "        assert m is not None, \"must pass slope (m) to instantiate object\"\n",
    "        assert b is not None, \"must pass intercept (b) to instantiate object\"\n",
    "\n",
    "    def __call__(self, x):\n",
    "        return self.m * x + self.b\n",
    "\n",
    "example_line = FitFunction(m=2, b=0)\n",
    "print(example_line(5))\n",
    "example_line2 = FitFunction()\n",
    "print(example_line2(5))"
   ]
  },
  {
   "cell_type": "markdown",
   "id": "91968808-5851-4b7a-9d21-3f550cad3c9a",
   "metadata": {},
   "source": [
    "Notice the `assert` statements. If you've never seen `assert` before, it will cause the code to throw an `AssertionError` and halt if the condition is not satisfied. This is typically used by developers to catch easily made mistakes or edge cases they want to avoid.\n",
    "\n",
    "We will use this object to help interpolate. Modify the object definition so that is only valid for the range between the points we're going to fit. Then write some code to interpolate between two points; the functal you've written should be helpful. You may also find it useful to remember the point-slope form for a line: $y - y_1 = m(x - x_1)$\n",
    "\n",
    "Use your code to plot the data series with 10 points between each \"sparse\" point."
   ]
  },
  {
   "cell_type": "code",
   "execution_count": null,
   "id": "27a57893-7ebb-48ac-a69d-ab9e62ed2404",
   "metadata": {},
   "outputs": [],
   "source": [
    "# code"
   ]
  },
  {
   "cell_type": "markdown",
   "id": "cad42a12-2c8d-425e-849c-95f0f47035c5",
   "metadata": {},
   "source": [
    "Fortunately out code has more than two points so we can do better than linear interpolation. \n",
    "\n",
    "With 3 points, the equation of the 2nd degree polynomial passing through those points is defined exactly. Consider the function $ y = ax^2 + bx + c$ passing through the points $(x_1, y_1)$, $(x_3, y_3)$, $(x_3, y_3)$. The function must satisfy three simultaneous equations:\n",
    "\n",
    "$$\n",
    "\\begin{align}\n",
    "y_1 = ax_1^2 + b x_1 + c \\\\\n",
    "y_2 = ax_2^2 + b x_2 + c\\\\\n",
    "y_3 = a3_3^2 + b x_3 + c\n",
    "\\end{align}\n",
    "$$\n",
    "\n",
    "Solving we find:\n",
    "\n",
    "$$\n",
    "\\begin{align}\n",
    "a &= \\frac{x_1(y_3-y_2) + x_2(y_1-y_3) + x_3(y_2 - y_1)}{(x_1-x_2)(x_1-x_3)(x_2-x_3)}\\\\\n",
    "b &= \\frac{y_2 - y_1}{x_2 - x_1} - a(x_1 + x_2)\\\\\n",
    "c &= y_1 -ax_1^2 - bx_1\n",
    "\\end{align}\n",
    "$$\n",
    "\n",
    "Write code to interpolate our sparse points using a second degree polynomial and plot the results."
   ]
  },
  {
   "cell_type": "code",
   "execution_count": null,
   "id": "e150130f-57d9-4dfc-a57c-02a7ee86e4be",
   "metadata": {},
   "outputs": [],
   "source": [
    "# code"
   ]
  },
  {
   "cell_type": "code",
   "execution_count": null,
   "id": "d9686050-721f-4667-9fb9-13a73a41f6bf",
   "metadata": {},
   "outputs": [],
   "source": []
  },
  {
   "cell_type": "code",
   "execution_count": null,
   "id": "7911b175-5cb7-4fa7-9fee-e7597f50f4d6",
   "metadata": {},
   "outputs": [],
   "source": [
    "from scipy.interpolate import interp1d\n",
    "\n",
    "f_inter = interp1d(x_sparse, y_sparse)\n",
    "\n",
    "plt.scatter(x_dense, f_inter(x_dense))"
   ]
  },
  {
   "cell_type": "markdown",
   "id": "9416cc12-5ffd-44d5-9ee1-865ad4dd479f",
   "metadata": {},
   "source": [
    "This error makes perfect sense. We can't interpolate beyond the sparse sampled points"
   ]
  },
  {
   "cell_type": "code",
   "execution_count": null,
   "id": "986464b5-979c-4965-9b7c-e0178c8db0ed",
   "metadata": {},
   "outputs": [],
   "source": [
    "plt.scatter(x_dense[:-10], f_inter(x_dense[:-10]))\n"
   ]
  },
  {
   "cell_type": "markdown",
   "id": "2eb37bd2-4ca0-4b17-9cb8-3d66d725181c",
   "metadata": {},
   "source": [
    "Gross, it defaults to linear! Good to know though. We can fix that."
   ]
  },
  {
   "cell_type": "code",
   "execution_count": null,
   "id": "726ffb2a-a6cb-4ac1-8a0d-29722316e76f",
   "metadata": {},
   "outputs": [],
   "source": [
    "f_inter = interp1d(x_sparse, y_sparse, kind=\"quadratic\")\n",
    "\n",
    "plt.plot(x_dense, y_dense)\n",
    "plt.scatter(x_dense[:-10], f_inter(x_dense[:-10]), c=\"tab:orange\", s=5)"
   ]
  },
  {
   "cell_type": "code",
   "execution_count": null,
   "id": "e03b7e12-38d5-410a-8f2e-c7f3cae72732",
   "metadata": {},
   "outputs": [],
   "source": []
  }
 ],
 "metadata": {
  "kernelspec": {
   "display_name": "base",
   "language": "python",
   "name": "python3"
  },
  "language_info": {
   "codemirror_mode": {
    "name": "ipython",
    "version": 3
   },
   "file_extension": ".py",
   "mimetype": "text/x-python",
   "name": "python",
   "nbconvert_exporter": "python",
   "pygments_lexer": "ipython3",
   "version": "3.12.2"
  }
 },
 "nbformat": 4,
 "nbformat_minor": 5
}
