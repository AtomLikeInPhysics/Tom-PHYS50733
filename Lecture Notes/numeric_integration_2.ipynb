{
 "cells": [
  {
   "cell_type": "markdown",
   "id": "5514a7ae-b460-4085-8508-c5db3a414156",
   "metadata": {},
   "source": [
    "# Numeric Integration 2\n",
    "\n",
    "### Uncertainty on The trapezoid rule\n",
    "\n",
    "Recall the integral we've been using for examples, $\\int_{0}^{2} ( x^4 - 2x + 1)dx$. Eq. 5.28 suggests we can estimate an uncertainty on our integral by integrating the function twice, one with $N$ steps and once with $2N$. Using $N=10$ and $N=20$ estimate the accuracy of your integral. How does it compare to the actual discrepancy with the known true value?"
   ]
  },
  {
   "cell_type": "code",
   "execution_count": null,
   "id": "2253f858-0f20-4870-bf70-54a3ef14c914",
   "metadata": {},
   "outputs": [],
   "source": [
    "# code"
   ]
  },
  {
   "cell_type": "markdown",
   "id": "58b79ab8-fd59-4f3f-b421-a382a0d6b48a",
   "metadata": {},
   "source": [
    "### Adaptive Trapezoid Rule\n",
    "\n",
    "Sec 5.3 outlines a method for iteratively doubling the number of steps in a trapezoid rule until a desired precision is achieved. Write a function to implement this method for our test integral, $\\int_{0}^{2} ( x^4 - 2x + 1)dx$, until a desired precision is reached. Choose your own goal."
   ]
  },
  {
   "cell_type": "code",
   "execution_count": null,
   "id": "97c5b8db-41b5-415b-903c-7076121c0aef",
   "metadata": {},
   "outputs": [],
   "source": [
    "# code"
   ]
  },
  {
   "cell_type": "markdown",
   "id": "a15b3013-99aa-46e0-969a-82873270872e",
   "metadata": {},
   "source": [
    "With your method established in principle, use the same function or write a new one to evaluate the integral $\\int_{0}^{1} \\sin^2 \\sqrt{100x} dx$ to a precision of $\\epsilon \\sim 10^{-6}$. Begin with a single slice and work your way up to two, four, eight, etc. At each step, print the number of slices and the error.\n",
    "\n",
    "The correct answer is around 0.45."
   ]
  },
  {
   "cell_type": "code",
   "execution_count": null,
   "id": "271516c3-54d2-4078-84f2-c4370d3c5b5a",
   "metadata": {},
   "outputs": [],
   "source": [
    "# code"
   ]
  },
  {
   "cell_type": "markdown",
   "id": "b5df34fd-169b-469b-aa35-458da1e0499d",
   "metadata": {},
   "source": [
    "Repeat the previous exercise using the adaptive Simpson's Rule. You should find signficantly fewer steps are needed."
   ]
  },
  {
   "cell_type": "code",
   "execution_count": null,
   "id": "349e35a7-a2c9-4364-8579-4f83b21ecc31",
   "metadata": {},
   "outputs": [],
   "source": [
    "# code"
   ]
  }
 ],
 "metadata": {
  "kernelspec": {
   "display_name": "Python 3 (ipykernel)",
   "language": "python",
   "name": "python3"
  },
  "language_info": {
   "codemirror_mode": {
    "name": "ipython",
    "version": 3
   },
   "file_extension": ".py",
   "mimetype": "text/x-python",
   "name": "python",
   "nbconvert_exporter": "python",
   "pygments_lexer": "ipython3",
   "version": "3.9.12"
  }
 },
 "nbformat": 4,
 "nbformat_minor": 5
}
