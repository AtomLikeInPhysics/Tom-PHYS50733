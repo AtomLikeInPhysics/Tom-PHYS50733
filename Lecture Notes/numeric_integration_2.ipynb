{
 "cells": [
  {
   "cell_type": "markdown",
   "id": "5514a7ae-b460-4085-8508-c5db3a414156",
   "metadata": {},
   "source": [
    "# Numeric Integration 2\n",
    "\n",
    "### Uncertainty on The trapezoid rule\n",
    "\n",
    "Recall the integral we've been using for examples, $\\int_{0}^{2} ( x^4 - 2x + 1)dx$. Eq. 5.28 suggests we can estimate an uncertainty on our integral by integrating the function twice, one with $N$ steps and once with $2N$. Using $N=10$ and $N=20$ estimate the accuracy of your integral. How does it compare to the actual discrepancy with the known true value?"
   ]
  },
  {
   "cell_type": "code",
   "execution_count": 44,
   "id": "aadd6481",
   "metadata": {},
   "outputs": [],
   "source": [
    "import numpy as np"
   ]
  },
  {
   "cell_type": "code",
   "execution_count": 45,
   "id": "2253f858-0f20-4870-bf70-54a3ef14c914",
   "metadata": {},
   "outputs": [
    {
     "name": "stdout",
     "output_type": "stream",
     "text": [
      "4.50656\n",
      "4.426660000000001\n",
      "0.026633333333333137\n"
     ]
    }
   ],
   "source": [
    "N_steps = 10\n",
    "\n",
    "def integrand(x):\n",
    "    return(x**4 - 2*x + 1)\n",
    "\n",
    "def trapRule(a,b,N):\n",
    "   h = (b-a)/N\n",
    "   s = 0.5 * (integrand(a)+integrand(b))\n",
    "   for i in range(1,N):\n",
    "        s += integrand(a + i*h)\n",
    "   return(h*s)\n",
    "\n",
    "print(trapRule(0,2,N_steps))\n",
    "print(trapRule(0,2,2*N_steps))\n",
    "\n",
    "error = 1/3 * (trapRule(0,2,2*N_steps) - trapRule(0,2,N_steps))\n",
    "print(abs(error))"
   ]
  },
  {
   "cell_type": "markdown",
   "id": "58b79ab8-fd59-4f3f-b421-a382a0d6b48a",
   "metadata": {},
   "source": [
    "### Adaptive Trapezoid Rule\n",
    "\n",
    "Sec 5.3 outlines a method for iteratively doubling the number of steps in a trapezoid rule until a desired precision is achieved. Write a function to implement this method for our test integral, $\\int_{0}^{2} ( x^4 - 2x + 1)dx$, until a desired precision is reached. Choose your own goal."
   ]
  },
  {
   "cell_type": "code",
   "execution_count": 62,
   "id": "97c5b8db-41b5-415b-903c-7076121c0aef",
   "metadata": {},
   "outputs": [
    {
     "name": "stdout",
     "output_type": "stream",
     "text": [
      "0.026633333333333137\n",
      "0.0066645833333331215\n",
      "0.0016665364583333304\n",
      "0.000416658528645956\n",
      "0.00010416615804024568\n",
      "2.60416348775531e-05\n",
      "6.510414679361531e-06\n",
      "1.6276040432453933e-06\n",
      "4.069010328677791e-07\n",
      "5120\n"
     ]
    }
   ],
   "source": [
    "# Goal = 0.001 error\n",
    "\n",
    "def integrand(x):\n",
    "    return(x**4 - 2*x + 1)\n",
    "\n",
    "def trapRule(a,b,N):\n",
    "   h = (b-a)/N\n",
    "   s = 0.5 * (integrand(a)+integrand(b))\n",
    "   for i in range(1,N):\n",
    "        s += integrand(a + i*h)\n",
    "   return(h*s)\n",
    "\n",
    "N_steps = 10\n",
    "error = 1/3 * (trapRule(0,2,2*N_steps) - trapRule(0,2,N_steps))\n",
    "\n",
    "while abs(error) > 1e-6:\n",
    "    error = 1/3 * (trapRule(0,2,2*N_steps) - trapRule(0,2,N_steps))\n",
    "    print(abs(error))\n",
    "    N_steps = 2*N_steps\n",
    "print(N_steps)"
   ]
  },
  {
   "cell_type": "markdown",
   "id": "a15b3013-99aa-46e0-969a-82873270872e",
   "metadata": {},
   "source": [
    "With your method established in principle, use the same function or write a new one to evaluate the integral $\\int_{0}^{1} \\sin^2 \\sqrt{100x} dx$ to a precision of $\\epsilon \\sim 10^{-6}$. Begin with a single slice and work your way up to two, four, eight, etc. At each step, print the number of slices and the error.\n",
    "\n",
    "The correct answer is around 0.45."
   ]
  },
  {
   "cell_type": "code",
   "execution_count": 63,
   "id": "271516c3-54d2-4078-84f2-c4370d3c5b5a",
   "metadata": {},
   "outputs": [
    {
     "name": "stdout",
     "output_type": "stream",
     "text": [
      "2 0.068009562368334\n",
      "4 0.032525512755786745\n",
      "8 0.11220006439320199\n",
      "16 0.029423386606275338\n",
      "32 0.01058837276455915\n",
      "64 0.006481476887873224\n",
      "128 0.0019265487484558437\n",
      "256 0.0005019335324088676\n",
      "512 0.0001267705326732186\n",
      "1024 3.177337306614625e-05\n",
      "2048 7.948394096827608e-06\n",
      "4096 1.987414273226425e-06\n",
      "8192 4.968733047228113e-07\n"
     ]
    }
   ],
   "source": [
    "\n",
    "\n",
    "def integrand(x):\n",
    "    return((np.sin((np.sqrt(100*x))))**2)\n",
    "\n",
    "def trapRule(a,b,N):\n",
    "   h = (b-a)/N\n",
    "   s = 0.5 * (integrand(a)+integrand(b))\n",
    "   for i in range(1,N):\n",
    "        s += integrand(a + i*h)\n",
    "   return(h*s)\n",
    "\n",
    "N_steps = 1\n",
    "error = 1/3 * (trapRule(0,2,2*N_steps) - trapRule(0,2,N_steps))\n",
    "\n",
    "while abs(error) > 1e-6:\n",
    "    error = 1/3 * (trapRule(0,2,2*N_steps) - trapRule(0,2,N_steps))\n",
    "    N_steps = 2*N_steps\n",
    "    print(N_steps,abs(error))"
   ]
  },
  {
   "cell_type": "code",
   "execution_count": 64,
   "id": "be470dad",
   "metadata": {},
   "outputs": [
    {
     "name": "stdout",
     "output_type": "stream",
     "text": [
      "0.4558324138011339\n"
     ]
    }
   ],
   "source": [
    "def integrand(x):\n",
    "    return((np.sin((np.sqrt(100*x))))**2)\n",
    "\n",
    "def trapRule(a,b,N):\n",
    "   h = (b-a)/N\n",
    "   s = 0.5 * (integrand(a)+integrand(b))\n",
    "   for i in range(1,N):\n",
    "        s += integrand(a + i*h)\n",
    "   return(h*s)\n",
    "\n",
    "print(trapRule(0,1,8192))"
   ]
  },
  {
   "cell_type": "markdown",
   "id": "b5df34fd-169b-469b-aa35-458da1e0499d",
   "metadata": {},
   "source": [
    "Repeat the previous exercise using the adaptive Simpson's Rule. You should find signficantly fewer steps are needed."
   ]
  },
  {
   "cell_type": "code",
   "execution_count": 60,
   "id": "349e35a7-a2c9-4364-8579-4f83b21ecc31",
   "metadata": {},
   "outputs": [
    {
     "name": "stdout",
     "output_type": "stream",
     "text": [
      "0.45583218714672075\n"
     ]
    }
   ],
   "source": [
    "def integrand(x):\n",
    "    return((np.sin((np.sqrt(100*x))))**2)\n",
    "\n",
    "def simpson(a,b,N):\n",
    "    h = (b-a)/N\n",
    "    s = (integrand(a)+integrand(b))\n",
    "    t = 0\n",
    "    for i in range(2,N,2):\n",
    "        s += 2 * integrand(a + i*h)\n",
    "    for i in range(1,N,2):\n",
    "        t += 2/3 * integrand(a + i*h)\n",
    "    return (h* (1/3 * s + 2*t))\n",
    "\n",
    "print(simpson(0,1,256))"
   ]
  },
  {
   "cell_type": "code",
   "execution_count": 59,
   "id": "8ec6b590",
   "metadata": {},
   "outputs": [
    {
     "name": "stdout",
     "output_type": "stream",
     "text": [
      "2 0.019044203946354275\n",
      "4 0.012687807742391213\n",
      "8 0.013870945597715319\n",
      "16 0.004837979678023951\n",
      "32 0.0010253170034309552\n",
      "64 8.181700486446694e-05\n",
      "128 5.4228267066358525e-06\n",
      "256 3.4389254066994704e-07\n"
     ]
    }
   ],
   "source": [
    "N_steps = 1\n",
    "serror = 1 / 15 *(simpson(0,1,2*N_steps)-simpson(0,1,N_steps))\n",
    "while abs(serror) > 1e-6:\n",
    "    serror = 1 / 15 *(simpson(0,1,2*N_steps)-simpson(0,1,N_steps))\n",
    "    N_steps = 2*N_steps\n",
    "    print(N_steps,abs(serror))"
   ]
  },
  {
   "cell_type": "code",
   "execution_count": null,
   "id": "c1fdd16b",
   "metadata": {},
   "outputs": [],
   "source": []
  }
 ],
 "metadata": {
  "kernelspec": {
   "display_name": "base",
   "language": "python",
   "name": "python3"
  },
  "language_info": {
   "codemirror_mode": {
    "name": "ipython",
    "version": 3
   },
   "file_extension": ".py",
   "mimetype": "text/x-python",
   "name": "python",
   "nbconvert_exporter": "python",
   "pygments_lexer": "ipython3",
   "version": "3.12.2"
  }
 },
 "nbformat": 4,
 "nbformat_minor": 5
}
