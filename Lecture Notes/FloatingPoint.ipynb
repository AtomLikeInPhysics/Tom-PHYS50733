{
 "cells": [
  {
   "cell_type": "markdown",
   "id": "d7d4c148-e7be-481e-ba29-af6cd8d07617",
   "metadata": {},
   "source": [
    "# Floating Point Accuracy\n",
    "\n",
    "Even in a modern language like Python 3.12, there is a limited number of bits to store floating point numbers. We can find that limit pretty quickly."
   ]
  },
  {
   "cell_type": "code",
   "execution_count": 1,
   "id": "18abbfce-45ad-41f1-8321-a8f1740d8315",
   "metadata": {},
   "outputs": [
    {
     "name": "stdout",
     "output_type": "stream",
     "text": [
      "30000000.0000003\n",
      "30000000000.0\n",
      "30000000000.00003\n"
     ]
    }
   ],
   "source": [
    "print(3e7 + 3e-7)\n",
    "print(3e10 + 3e-7)\n",
    "print(3e10 + 3e-5)"
   ]
  },
  {
   "cell_type": "markdown",
   "id": "0421ca42-e2f6-4965-aaec-d2515278c138",
   "metadata": {},
   "source": [
    "Some of the classic floating point math works surprisingly well in Python; someone must have done some wizardry in the back ground. It's a very Pythonic thing to do really."
   ]
  },
  {
   "cell_type": "code",
   "execution_count": 2,
   "id": "eedd2719-4745-4e1a-87bf-b33447a5abb5",
   "metadata": {},
   "outputs": [
    {
     "name": "stdout",
     "output_type": "stream",
     "text": [
      "1.0\n",
      "1.000\n",
      "1\n",
      "True\n"
     ]
    }
   ],
   "source": [
    "a = 1/3 + 1/3 + 1/3\n",
    "\n",
    "print(a)\n",
    "print(f\"{a:5.3f}\")\n",
    "print(int(a))\n",
    "print(a == 1.0)"
   ]
  },
  {
   "cell_type": "markdown",
   "id": "f76d6dcd-28de-4b56-a747-606051b5b1e5",
   "metadata": {},
   "source": [
    "\n",
    "But we can still very quickly see where some issues arise."
   ]
  },
  {
   "cell_type": "code",
   "execution_count": 3,
   "id": "97a7cae9-dd27-456e-b00d-8e7936079fba",
   "metadata": {},
   "outputs": [
    {
     "name": "stdout",
     "output_type": "stream",
     "text": [
      "0.6666666666666666\n",
      "0.6666666666666666297\n",
      "0\n",
      "1\n",
      "True\n",
      "False\n",
      "True\n",
      "False\n"
     ]
    }
   ],
   "source": [
    "a = 1/3 + 1/3\n",
    "\n",
    "print(a)\n",
    "print(f\"{a:20.19f}\")\n",
    "print(int(a))\n",
    "print(round(a))\n",
    "print(a == 2/3)\n",
    "print(a == 0.6666666)\n",
    "print(a - 0.666666 < 1e5)\n",
    "\n",
    "print(0.1 + 0.1 +0.1 == 0.3)"
   ]
  },
  {
   "cell_type": "markdown",
   "id": "717dc5f8-bf06-49cd-9993-f1697ca852c2",
   "metadata": {},
   "source": [
    "## Example 4.1\n",
    "\n",
    "Given $x = 1, y = 1 + 10^{-14} \\sqrt{2}$, we can see trivially that $10^{14}(y-x) = \\sqrt{2}$\n",
    "\n",
    "The book tells us this calculation isn't very accurate, let's see."
   ]
  },
  {
   "cell_type": "code",
   "execution_count": 4,
   "id": "3e266181-17ac-4bd1-9ea9-789228090865",
   "metadata": {},
   "outputs": [
    {
     "name": "stdout",
     "output_type": "stream",
     "text": [
      "1.4210854715202004\n",
      "1.4142135623730951\n"
     ]
    }
   ],
   "source": [
    "import numpy as np\n",
    "\n",
    "x = 1.0\n",
    "y = 1.0 + 1e-14 * np.sqrt(2)\n",
    "print(1e14 * (y - x))\n",
    "print(np.sqrt(2))"
   ]
  },
  {
   "cell_type": "markdown",
   "id": "b65c80af-d6b2-4028-aa2e-5fc3cca9005f",
   "metadata": {},
   "source": [
    "## Exercise 4.2\n",
    "\n",
    "You likely completed exercise 4.2 in your previous course, but is worth revisiting. Recall there were two formulae given to calculate roots of a quadratic equation. The classic equation\n",
    "\n",
    "$$ x = {-b \\pm \\sqrt{b^2-4ac}\\over2a} $$\n",
    "\n",
    "And an alternative:\n",
    "\n",
    "$$ x = {2c\\over-b\\mp\\sqrt{b^2-4ac}} $$\n",
    "\n",
    "Let's explore this quickly. We'll exploit the fact that $\\sqrt{b^2-4ac}$ appears in both equations."
   ]
  },
  {
   "cell_type": "code",
   "execution_count": 1,
   "id": "e7f9c18e-afd8-4a33-a2be-29b8f2226a1e",
   "metadata": {},
   "outputs": [
    {
     "name": "stdout",
     "output_type": "stream",
     "text": [
      "(7.3166247903554, 0.6833752096446002) (7.3166247903554, 0.6833752096446002)\n",
      "0.0\n",
      "0.0\n",
      "0.0\n",
      "0.0\n"
     ]
    }
   ],
   "source": [
    "def root(b, a, c):\n",
    "    return (b*b - 4 * a * c)**0.5\n",
    "\n",
    "def classic(a, b, c):\n",
    "    d = root(b, a, c)\n",
    "    return (-b + d) / (2 * a), (-b - d) / (2 * a)\n",
    "\n",
    "def modified(a, b, c):\n",
    "    d = root(b, a, c)\n",
    "    return 2 * c / (-b - d), 2 * c / (-b + d)\n",
    "\n",
    "def test(roots, solutions):\n",
    "    a, b, c = roots\n",
    "    x1, x2 = solutions\n",
    "    print(a*(x1**2) + b*x1 + c)\n",
    "    print(a*(x2**2) + b*x2 + c)\n",
    "\n",
    "# easy\n",
    "a = 1\n",
    "b = -8\n",
    "c = 5\n",
    "\n",
    "roots = (a, b, c)\n",
    "\n",
    "print(classic(*roots), modified(a, b, c))\n",
    "\n",
    "test(roots, classic(*roots))\n",
    "test(roots, modified(*roots))"
   ]
  },
  {
   "cell_type": "code",
   "execution_count": 2,
   "id": "ad0fc856-6bd5-4798-ba37-eb3b38b22208",
   "metadata": {},
   "outputs": [
    {
     "name": "stdout",
     "output_type": "stream",
     "text": [
      "(-9.999894245993346e-07, -999999.999999) (-1.000000000001e-06, -1000010.5755125057)\n",
      "1.0575401665491313e-08\n",
      "7.247924804689582e-08\n",
      "0.0\n",
      "10575.62534720993\n"
     ]
    }
   ],
   "source": [
    "a = 0.001\n",
    "b = 1000\n",
    "c = 0.001\n",
    "\n",
    "roots = (a, b, c)\n",
    "\n",
    "print(classic(*roots), modified(a, b, c))\n",
    "\n",
    "test(roots, classic(*roots))\n",
    "test(roots, modified(*roots))"
   ]
  },
  {
   "cell_type": "code",
   "execution_count": 3,
   "id": "8df2cf5a-510c-479b-92c1-a15cb9cc232d",
   "metadata": {},
   "outputs": [
    {
     "name": "stdout",
     "output_type": "stream",
     "text": [
      "999.999999998\n"
     ]
    }
   ],
   "source": [
    "a = 0.001\n",
    "b = 1000\n",
    "c = 0.001\n",
    "print(root(b,a,c))"
   ]
  },
  {
   "cell_type": "markdown",
   "id": "41bc0b70-8f05-45b2-ae8e-50ffd94f4f15",
   "metadata": {},
   "source": [
    "At this point hopefully the issue is obvious: the term $\\sqrt{b^2-4ac}$ is just going to $b$, so the $-b + ...$ terms are going to 0.\n",
    "\n",
    "Looking at the form of our equations, the second result from our classic equation should work, and the first from our modified equation, we can test those values individually"
   ]
  },
  {
   "cell_type": "code",
   "execution_count": 4,
   "id": "aa2c9f37-cfd5-4b6c-86fa-a39fbcaa24bb",
   "metadata": {},
   "outputs": [
    {
     "name": "stdout",
     "output_type": "stream",
     "text": [
      "1.0000680839006293e-15\n",
      "0.001\n"
     ]
    }
   ],
   "source": [
    "test(roots, (-1e-6, -1e6))"
   ]
  },
  {
   "cell_type": "markdown",
   "id": "23349ada-b8bf-484a-9b7e-12ffd5316e49",
   "metadata": {},
   "source": [
    "In conclusion: floating point numbers make life difficult. Use with caution"
   ]
  }
 ],
 "metadata": {
  "kernelspec": {
   "display_name": "base",
   "language": "python",
   "name": "python3"
  },
  "language_info": {
   "codemirror_mode": {
    "name": "ipython",
    "version": 3
   },
   "file_extension": ".py",
   "mimetype": "text/x-python",
   "name": "python",
   "nbconvert_exporter": "python",
   "pygments_lexer": "ipython3",
   "version": "3.12.2"
  }
 },
 "nbformat": 4,
 "nbformat_minor": 5
}
