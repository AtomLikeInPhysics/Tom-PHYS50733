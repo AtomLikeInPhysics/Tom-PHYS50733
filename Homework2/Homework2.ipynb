{
 "cells": [
  {
   "cell_type": "markdown",
   "id": "6c693a0b-8009-4b4c-bec5-03a694642160",
   "metadata": {},
   "source": [
    "## Homework 2\n",
    "### Due: Thursday Feb. 13\n",
    "\n",
    "**Integer vs floating point number**\n",
    "\n",
    "Write a program to calculate and print the factorial of a\n",
    "number.  If you wish you can base your program on the\n",
    "user-defined function for factorial given in Section 2.6, but write your\n",
    "program so that it calculates the factorial using *integer*\n",
    "variables, not floating-point ones.  Use your program to calculate the\n",
    "factorial of 200.\n",
    "\n",
    "Now modify your program to use floating-point variables instead and again\n",
    "calculate the factorial of 200.  What do you find?  Explain.\n",
    "\n",
    "(20 points)"
   ]
  },
  {
   "cell_type": "code",
   "execution_count": 1,
   "id": "baf3fa22",
   "metadata": {},
   "outputs": [],
   "source": [
    "import numpy as np\n",
    "import matplotlib.pyplot as plt"
   ]
  },
  {
   "cell_type": "code",
   "execution_count": 2,
   "id": "de7fed8f-325f-4eab-ab18-1e59d1d6b428",
   "metadata": {},
   "outputs": [
    {
     "name": "stdout",
     "output_type": "stream",
     "text": [
      "788657867364790503552363213932185062295135977687173263294742533244359449963403342920304284011984623904177212138919638830257642790242637105061926624952829931113462857270763317237396988943922445621451664240254033291864131227428294853277524242407573903240321257405579568660226031904170324062351700858796178922222789623703897374720000000000000000000000000000000000000000000000000\n",
      "inf\n"
     ]
    }
   ],
   "source": [
    "def intFactorial(N):\n",
    "    for i in range(1,N-1):\n",
    "        N *= (i+1)\n",
    "    return(N)\n",
    "\n",
    "print(intFactorial(200))\n",
    "\n",
    "def floatFactorial(N):\n",
    "    for i in range(1,N-1):\n",
    "        N *= float(i+1)\n",
    "    return(N)\n",
    "\n",
    "print(floatFactorial(200))"
   ]
  },
  {
   "cell_type": "markdown",
   "id": "cbc83a53",
   "metadata": {},
   "source": [
    "Finding the factorial using integer numbers works just fine, but when using floating point numbers it errors out and just returns infinity. This is due to the fact that for very large numbers, the floating point calculation starts to be off which leads to the loss of important digits."
   ]
  },
  {
   "cell_type": "markdown",
   "id": "1e9a5155-daa8-4809-8e6a-e5d4ab7c270d",
   "metadata": {},
   "source": [
    "**A Simple Derivative**\n",
    "\n",
    "Suppose we have a function $f(x)$ and we want to\n",
    "calculate its derivative at a point $x$.  We can do that with pencil and\n",
    "paper if we know the mathematical form of the function, or we can do it on\n",
    "the computer by making use of the definition of the derivative:\n",
    "\n",
    "<p style=\"text-align:center;\">\n",
    "${d f\\over d x} = \\lim_{\\delta\\to0} {f(x+\\delta)-f(x)\\over\\delta}.$\n",
    "</p>\n",
    "\n",
    "On the computer we can't actually take the limit as $\\delta$ goes to\n",
    "zero, but we can get a reasonable approximation just by making $\\delta$\n",
    "small.\n",
    "- Write a program that defines a function *f(x)* returning the\n",
    "  value $x(x-1)$, then calculates the derivative of the function at the\n",
    "  point $x=1$ using the formula above with $\\delta=10^{-2}$.  Calculate\n",
    "  the true value of the same derivative analytically and compare with the\n",
    "  answer your program gives.  The two will not agree perfectly.  Why not?\n",
    "- Repeat the calculation for $\\delta=10^{-4}$, $10^{-6}$, $10^{-8}$,\n",
    "  $10^{-10}$, $10^{-12}$, and $10^{-14}$.  You should see that the accuracy\n",
    "  of the calculation initially gets better as $\\delta$ gets smaller, but\n",
    "  then gets worse again.  Why is this?\n",
    "\n",
    "(20 points)"
   ]
  },
  {
   "cell_type": "code",
   "execution_count": 3,
   "id": "84528686-9eb8-4446-81db-1a6dc4a26a30",
   "metadata": {},
   "outputs": [
    {
     "name": "stdout",
     "output_type": "stream",
     "text": [
      "1.010000000000001\n"
     ]
    }
   ],
   "source": [
    "def function(x):\n",
    "    return(x * (x - 1))\n",
    "def derivative(x,delta):\n",
    "    return((function(x + delta) - function(x)) / delta)\n",
    "\n",
    "print(derivative(1,1e-2))"
   ]
  },
  {
   "cell_type": "markdown",
   "id": "4bc77514",
   "metadata": {},
   "source": [
    "The true value of the derivative analytically is 1. This is close to the value calculated using the method about but not quite the same. This is due to the real definition of a derivative involves a limit as delta goes to zero, but since we can only make delta small we will not get a fully acurate value."
   ]
  },
  {
   "cell_type": "code",
   "execution_count": 4,
   "id": "87b37e02",
   "metadata": {},
   "outputs": [
    {
     "name": "stdout",
     "output_type": "stream",
     "text": [
      "1.0000999999998899\n",
      "1.0000009999177333\n",
      "1.0000000039225287\n",
      "1.000000082840371\n",
      "1.0000889005833413\n",
      "0.9992007221626509\n"
     ]
    }
   ],
   "source": [
    "print(derivative(1,1e-4))\n",
    "print(derivative(1,1e-6))\n",
    "print(derivative(1,1e-8))\n",
    "print(derivative(1,1e-10))\n",
    "print(derivative(1,1e-12))\n",
    "print(derivative(1,1e-14))"
   ]
  },
  {
   "cell_type": "markdown",
   "id": "628790bd",
   "metadata": {},
   "source": [
    "We see the derivative become more accurate up to 10^-10 and further. This is due to the floating points not calculating the significant figures correctly. Python begins to lose percision at the very small float values."
   ]
  },
  {
   "cell_type": "markdown",
   "id": "ebb2e1bb-74fa-4897-9d4d-8ba74bfe1ad2",
   "metadata": {},
   "source": [
    "### Simpson's Rule\n",
    "\n",
    "- Write a program to calculate an approximate value for the integral $\\int_{0}^{2} ( x^4 - 2x + 1)dx$ from Example 5.1 in the book, but using Simpson's rule with 10 slices instead of the trapezoid rule. You may be able to modify your code from the trapezoid rule to complete this task. Compare your result to the known correct value of 4.4. What is the fractional error on your calculation?\n",
    "\n",
    "- Copy your code and modify it to use one hundred slices, then one thousand. Note the improvement in the result and compare to the results from the trapezoid rule.\n",
    "\n",
    "(30 points)"
   ]
  },
  {
   "cell_type": "code",
   "execution_count": 5,
   "id": "d8370bf3-7d95-442e-8d4d-b3636a60e6e7",
   "metadata": {},
   "outputs": [
    {
     "name": "stdout",
     "output_type": "stream",
     "text": [
      "Simpson's rule with 10 slices: 4.400426666666667 with fractional error of: 9.696969696972666e-05\n",
      "Simpson's rule with 100 slices: 4.400000042666667 with fractional error of: 9.69696969186564e-09\n",
      "Simpson's rule with 1000 slices: 4.400000000004267 with fractional error of: 9.697293473271367e-13\n",
      "Trap rule with 10 slices: 4.50656\n",
      "Trap rule with 100 slices: 4.401066656\n",
      "Trap rule with 1000 slices: 4.400010666665601\n"
     ]
    }
   ],
   "source": [
    "def integrand(x):\n",
    "    return((x**4 - 2*x + 1))\n",
    "\n",
    "def trapRule(a,b,N):\n",
    "   h = (b-a)/N\n",
    "   s = 0.5 * (integrand(a)+integrand(b))\n",
    "   for i in range(1,N):\n",
    "        s += integrand(a + i*h)\n",
    "   return(h*s)\n",
    "\n",
    "def simpson(a,b,N):\n",
    "    h = (b-a)/N\n",
    "    s = (integrand(a)+integrand(b))\n",
    "    t = 0\n",
    "    for i in range(2,N,2):\n",
    "        s += 2 * integrand(a + i*h)\n",
    "    for i in range(1,N,2):\n",
    "        t += 2/3 * integrand(a + i*h)\n",
    "    return (h* (1/3 * s + 2*t))\n",
    "\n",
    "print(\"Simpson's rule with 10 slices:\",simpson(0,2,10), \"with fractional error of:\", (np.abs(simpson(0,2,10) - 4.4)) / (4.4))\n",
    "print(\"Simpson's rule with 100 slices:\",simpson(0,2,100), \"with fractional error of:\", (np.abs(simpson(0,2,100) - 4.4)) / (4.4))\n",
    "print(\"Simpson's rule with 1000 slices:\",simpson(0,2,1000), \"with fractional error of:\", (np.abs(simpson(0,2,1000) - 4.4)) / (4.4))\n",
    "\n",
    "print(\"Trap rule with 10 slices:\",trapRule(0,2,10))\n",
    "print(\"Trap rule with 100 slices:\",trapRule(0,2,100))\n",
    "print(\"Trap rule with 1000 slices:\",trapRule(0,2,1000))"
   ]
  },
  {
   "cell_type": "markdown",
   "id": "014fbcad",
   "metadata": {},
   "source": [
    "Even with only 10 slices, Simpson's rule was already way more percise than the Trap rule. In fact the trap rule requires 1000 slices to bearly be as percise as the simpsons rule with 10 slices."
   ]
  },
  {
   "cell_type": "markdown",
   "id": "4c080cd1-540e-4ab2-a0d6-3372d1899b4f",
   "metadata": {},
   "source": [
    "### An Integral With No Analytic Solution\n",
    "\n",
    "Consider the integral\n",
    "\n",
    "$$ E(x) = \\int_{0}^{x} \\exp{-t^2} dt$$\n",
    "\n",
    "- Write a program to calculate $E(x)$ for values of x from 0 to 3 in steps of 0.1. Choose for yourself what method you will use for performing the integral and a suitable number of slices.\n",
    "\n",
    "- When you are convinced your program is working, extend it further to make a graph of E(x) as a function of x.\n",
    "\n",
    "(30 points)"
   ]
  },
  {
   "cell_type": "code",
   "execution_count": 6,
   "id": "27aaf5cb-8c02-4c8a-affe-d7d67c969b59",
   "metadata": {},
   "outputs": [
    {
     "name": "stdout",
     "output_type": "stream",
     "text": [
      "[0.         0.09966766 0.19736503 0.29123788 0.37965284 0.46128101\n",
      " 0.53515353 0.60068567 0.65766986 0.70624151 0.74682413 0.78006143\n",
      " 0.80674476 0.82774299 0.84394071 0.85618839 0.86526623 0.87186159\n",
      " 0.87655863 0.87983761 0.88208139 0.88358644 0.88457602 0.88521381\n",
      " 0.88561675 0.88586627 0.88601775 0.88610788 0.88616045 0.8861905 ]\n"
     ]
    }
   ],
   "source": [
    "xvals = np.arange(0,3,0.1)\n",
    "\n",
    "def integrand(t):\n",
    "    return(np.exp(-t**2))\n",
    "\n",
    "def simpson(a,b,N):\n",
    "    h = (b-a)/N\n",
    "    s = (integrand(a)+integrand(b))\n",
    "    t = 0\n",
    "    for i in range(2,N,2):\n",
    "        s += 2 * integrand(a + i*h)\n",
    "    for i in range(1,N,2):\n",
    "        t += 2/3 * integrand(a + i*h)\n",
    "    return (h* (1/3 * s + 2*t))\n",
    "\n",
    "print(simpson(0,xvals,1000))"
   ]
  },
  {
   "cell_type": "code",
   "execution_count": 7,
   "id": "c436b13b",
   "metadata": {},
   "outputs": [
    {
     "data": {
      "text/plain": [
       "Text(0.5, 1.0, 'E(x) as a Function of x')"
      ]
     },
     "execution_count": 7,
     "metadata": {},
     "output_type": "execute_result"
    },
    {
     "data": {
      "image/png": "[encoded data removed]",
      "text/plain": [
       "<Figure size 640x480 with 1 Axes>"
      ]
     },
     "metadata": {},
     "output_type": "display_data"
    }
   ],
   "source": [
    "plt.scatter(xvals,simpson(0,xvals,1000))\n",
    "plt.xlabel('x values')\n",
    "plt.ylabel('E(x)')\n",
    "plt.title(\"E(x) as a Function of x\")"
   ]
  },
  {
   "cell_type": "code",
   "execution_count": null,
   "id": "c8cfd508",
   "metadata": {},
   "outputs": [],
   "source": []
  }
 ],
 "metadata": {
  "kernelspec": {
   "display_name": "base",
   "language": "python",
   "name": "python3"
  },
  "language_info": {
   "codemirror_mode": {
    "name": "ipython",
    "version": 3
   },
   "file_extension": ".py",
   "mimetype": "text/x-python",
   "name": "python",
   "nbconvert_exporter": "python",
   "pygments_lexer": "ipython3",
   "version": "3.12.2"
  }
 },
 "nbformat": 4,
 "nbformat_minor": 5
}
